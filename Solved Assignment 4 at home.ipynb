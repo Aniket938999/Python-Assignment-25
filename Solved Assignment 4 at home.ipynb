{
 "cells": [
  {
   "cell_type": "markdown",
   "id": "42e93835-c105-4b46-84f4-28ed5470c235",
   "metadata": {},
   "source": [
    "1. Write a Python Program to Find the Factorial of a Number?"
   ]
  },
  {
   "cell_type": "code",
   "execution_count": 29,
   "id": "89c43992-cc97-413b-a2e1-ffddd9b7be84",
   "metadata": {},
   "outputs": [
    {
     "name": "stdin",
     "output_type": "stream",
     "text": [
      "enter a number:  -1\n"
     ]
    },
    {
     "name": "stdout",
     "output_type": "stream",
     "text": [
      "factorial of negetive number does noy exist\n"
     ]
    }
   ],
   "source": [
    "number=int(input(\"enter a number: \"))\n",
    "factorial=1\n",
    "if number<0:\n",
    "    print(\"factorial of negetive number does not exist\")\n",
    "if number>=0:\n",
    "    for i in range(1,number+1):\n",
    "        factorial=factorial*i\n",
    "\n",
    "    print(f\"factorial of {number} is {factorial}\")\n"
   ]
  },
  {
   "cell_type": "code",
   "execution_count": 36,
   "id": "83e0046e-f4ff-4a52-b252-b6649be342a2",
   "metadata": {},
   "outputs": [
    {
     "name": "stdin",
     "output_type": "stream",
     "text": [
      "enter a number:  -1\n"
     ]
    },
    {
     "name": "stdout",
     "output_type": "stream",
     "text": [
      "factorial of negetive number does not exist\n"
     ]
    }
   ],
   "source": [
    "def get_factorial(number):\n",
    "    factorial=1\n",
    "    if number<0:\n",
    "        return \"factorial of negetive number does not exist\"\n",
    "    if number>=0:\n",
    "        for i in range(1,number+1):\n",
    "            factorial=factorial*i\n",
    "        return f\"factorial of {number} is {factorial}\"\n",
    "\n",
    "try:\n",
    "    number=int(input(\"enter a number: \"))\n",
    "    print(get_factorial(number))\n",
    "\n",
    "except Exception as e:\n",
    "    print(\"invalid number entered\")\n",
    "        \n",
    "        "
   ]
  },
  {
   "cell_type": "markdown",
   "id": "aaa7be58-ade3-4b17-a06d-39a1bd8c7a9a",
   "metadata": {},
   "source": [
    "2. Write a Python Program to Display the multiplication Table?"
   ]
  },
  {
   "cell_type": "code",
   "execution_count": 37,
   "id": "2bc40b7f-f4fe-466b-91be-e237fb3d7ab1",
   "metadata": {},
   "outputs": [
    {
     "name": "stdin",
     "output_type": "stream",
     "text": [
      "enter a numbe:  5\n"
     ]
    },
    {
     "name": "stdout",
     "output_type": "stream",
     "text": [
      "5X1=5\n",
      "5X2=10\n",
      "5X3=15\n",
      "5X4=20\n",
      "5X5=25\n",
      "5X6=30\n",
      "5X7=35\n",
      "5X8=40\n",
      "5X9=45\n",
      "5X10=50\n"
     ]
    }
   ],
   "source": [
    "number=int(input(\"enter a numbe: \"))\n",
    "\n",
    "for i in range(1,11):\n",
    "    \n",
    "    print(f\"{number}X{i}={number*i}\")"
   ]
  },
  {
   "cell_type": "code",
   "execution_count": 47,
   "id": "3ba73cc3-6276-4bae-8a5a-c8b833dbe8dd",
   "metadata": {},
   "outputs": [
    {
     "name": "stdin",
     "output_type": "stream",
     "text": [
      "enter a number:  5\n"
     ]
    },
    {
     "name": "stdout",
     "output_type": "stream",
     "text": [
      "5X1=5\n",
      "5X2=10\n",
      "5X3=15\n",
      "5X4=20\n",
      "5X5=25\n",
      "5X6=30\n",
      "5X7=35\n",
      "5X8=40\n",
      "5X9=45\n",
      "5X10=50\n"
     ]
    }
   ],
   "source": [
    "def get_table(number):\n",
    "    for i in range(1,11):\n",
    "         print(f\"{number}X{i}={number*i}\")\n",
    "\n",
    "try:\n",
    "    number=int(input(\"enter a number: \"))\n",
    "    get_table(number)\n",
    "\n",
    "except Exception as e:\n",
    "    print(\"table could not be defined for this value\")\n",
    "\n"
   ]
  },
  {
   "cell_type": "markdown",
   "id": "74e38a73-0ffb-413f-910c-45acced90285",
   "metadata": {},
   "source": [
    "3. Write a Python Program to Print the Fibonacci sequence?"
   ]
  },
  {
   "cell_type": "code",
   "execution_count": 52,
   "id": "36950dd1-22c8-40db-a27a-e8f139206036",
   "metadata": {},
   "outputs": [
    {
     "name": "stdin",
     "output_type": "stream",
     "text": [
      "enter a number to print fibonacci sequence:  5\n"
     ]
    },
    {
     "name": "stdout",
     "output_type": "stream",
     "text": [
      "0\n",
      "1\n",
      "1\n",
      "2\n",
      "3\n",
      "5\n",
      "8\n"
     ]
    }
   ],
   "source": [
    "number=int(input(\"enter a number to print fibonacci sequence: \"))\n",
    "a=0\n",
    "b=1\n",
    "if number==1:\n",
    "    print(a)\n",
    "else:\n",
    "    print(a)\n",
    "    print(b)\n",
    "    for i in range(1,number+1):\n",
    "        c=a+b\n",
    "        a=b\n",
    "        b=c\n",
    "        print(c)"
   ]
  },
  {
   "cell_type": "code",
   "execution_count": 9,
   "id": "1e282bc5-0122-4dc1-9859-7613222314e7",
   "metadata": {},
   "outputs": [
    {
     "name": "stdin",
     "output_type": "stream",
     "text": [
      "enter a number till that you want to print sequence:  5\n"
     ]
    },
    {
     "name": "stdout",
     "output_type": "stream",
     "text": [
      "0\n",
      "1\n",
      "1\n",
      "2\n",
      "3\n",
      "5\n",
      "8\n",
      "None\n"
     ]
    }
   ],
   "source": [
    "def fibonacci_sequence(number):\n",
    "    a=0\n",
    "    b=1\n",
    "    if number==1:\n",
    "        print(a) \n",
    "    else:\n",
    "        print(a)\n",
    "        print(b)\n",
    "        for i in range(1,number+1):\n",
    "                c=a+b\n",
    "                a=b\n",
    "                b=c\n",
    "                print(c)\n",
    "       \n",
    "\n",
    "try:\n",
    "    number=int(input(\"enter a number till that you want to print sequence: \"))\n",
    "    print(fibonacci_sequence(number))\n",
    "\n",
    "except Exception as e:\n",
    "    print(\"invalid value entered\")\n",
    "        \n",
    "        \n",
    "        "
   ]
  },
  {
   "cell_type": "code",
   "execution_count": null,
   "id": "905eedb9-ddb3-4e7d-974f-f819c2dc03f4",
   "metadata": {},
   "outputs": [],
   "source": [
    "4. Write a Python Program to Check Armstrong Number?"
   ]
  },
  {
   "cell_type": "code",
   "execution_count": null,
   "id": "c2f3c2f6-9552-4d10-a5a7-4a9f6ec7bc9e",
   "metadata": {},
   "outputs": [],
   "source": [
    "# Function to check if the number is Armstrong\n",
    "def is_armstrong(number):\n",
    "    # Convert the number to a string to easily iterate over each digit\n",
    "    num_str = str(number)\n",
    "    num_digits = len(num_str)\n",
    "    \n",
    "    # Calculate the sum of the digits raised to the power of the number of digits\n",
    "    sum_of_powers = sum(int(digit) ** num_digits for digit in num_str)\n",
    "    \n",
    "    # Check if the sum equals the original number\n",
    "    if sum_of_powers == number:\n",
    "        return True\n",
    "    else:\n",
    "        return False\n",
    "\n",
    "# Get user input\n",
    "num = int(input(\"Enter a number to check if it's an Armstrong number: \"))\n",
    "\n",
    "# Check if the number is an Armstrong number\n",
    "if is_armstrong(num):\n",
    "    print(f\"{num} is an Armstrong number.\")\n",
    "else:\n",
    "    print(f\"{num} is not an Armstrong number.\")\n"
   ]
  },
  {
   "cell_type": "markdown",
   "id": "1224d55d-157d-40cf-a24a-b13982090baa",
   "metadata": {},
   "source": [
    "5. Write a Python Program to Find Armstrong Number in an Interval?"
   ]
  },
  {
   "cell_type": "code",
   "execution_count": null,
   "id": "65c43ae5-8dd2-4770-98a0-7b19e227e42a",
   "metadata": {},
   "outputs": [],
   "source": [
    "# Function to check if a number is Armstrong\n",
    "def is_armstrong(num):\n",
    "    # Convert number to string to easily iterate through digits\n",
    "    num_str = str(num)\n",
    "    num_digits = len(num_str)\n",
    "    sum_of_powers = 0\n",
    "\n",
    "    # Calculate the sum of digits raised to the power of the number of digits\n",
    "    for digit in num_str:\n",
    "        sum_of_powers += int(digit) ** num_digits\n",
    "\n",
    "    # Check if the sum equals the original number\n",
    "    return sum_of_powers == num\n",
    "\n",
    "# Input interval\n",
    "start = int(input(\"Enter the start of the interval: \"))\n",
    "end = int(input(\"Enter the end of the interval: \"))\n",
    "\n",
    "# Print Armstrong numbers in the interval\n",
    "print(f\"Armstrong numbers between {start} and {end} are:\")\n",
    "for number in range(start, end + 1):\n",
    "    if is_armstrong(number):\n",
    "        print(number)\n"
   ]
  },
  {
   "cell_type": "markdown",
   "id": "f8ab46b8-fd93-4668-ad73-517d82c4c1a9",
   "metadata": {},
   "source": [
    "6. Write a Python Program to Find the Sum of Natural Numbers?"
   ]
  },
  {
   "cell_type": "code",
   "execution_count": 59,
   "id": "9e03d1a6-1b20-4bd0-beeb-c8e15ac9ffd4",
   "metadata": {},
   "outputs": [
    {
     "name": "stdin",
     "output_type": "stream",
     "text": [
      "enter a number:  5\n"
     ]
    },
    {
     "name": "stdout",
     "output_type": "stream",
     "text": [
      "1\n",
      "2\n",
      "3\n",
      "4\n",
      "5\n"
     ]
    }
   ],
   "source": [
    "number=int(input(\"enter a number: \"))\n",
    "total=0\n",
    "for i in range(1,number+1):\n",
    "    total=total+1\n",
    "    print(total)"
   ]
  },
  {
   "cell_type": "code",
   "execution_count": null,
   "id": "5a1641f8-18d4-48b7-ac66-41f985b15c25",
   "metadata": {},
   "outputs": [],
   "source": []
  }
 ],
 "metadata": {
  "kernelspec": {
   "display_name": "Python 3 (ipykernel)",
   "language": "python",
   "name": "python3"
  },
  "language_info": {
   "codemirror_mode": {
    "name": "ipython",
    "version": 3
   },
   "file_extension": ".py",
   "mimetype": "text/x-python",
   "name": "python",
   "nbconvert_exporter": "python",
   "pygments_lexer": "ipython3",
   "version": "3.12.7"
  }
 },
 "nbformat": 4,
 "nbformat_minor": 5
}
