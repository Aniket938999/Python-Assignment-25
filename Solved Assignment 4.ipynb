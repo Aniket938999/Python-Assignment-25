{
 "cells": [
  {
   "cell_type": "markdown",
   "id": "67ee79b7-cc7f-4a58-a5b9-63562fe10300",
   "metadata": {},
   "source": [
    "1. Write a Python Program to Find the Factorial of a Number?"
   ]
  },
  {
   "cell_type": "code",
   "execution_count": 1,
   "id": "d4c71292-81cc-41e2-a217-da006e355413",
   "metadata": {},
   "outputs": [
    {
     "name": "stdin",
     "output_type": "stream",
     "text": [
      "enter a number:  5\n"
     ]
    },
    {
     "name": "stdout",
     "output_type": "stream",
     "text": [
      "120\n"
     ]
    }
   ],
   "source": [
    "number=int(input(\"enter a number: \"))\n",
    "factorial=1\n",
    "if number<0:\n",
    "    print(f\"factorial of {number} does not exist\")\n",
    "elif number==0:\n",
    "    print(f\"factorial of {number} is 1\")\n",
    "else:\n",
    "    for i in range(number,1,-1):\n",
    "        factorial=factorial*i\n",
    "\n",
    "print(factorial)\n",
    "\n"
   ]
  },
  {
   "cell_type": "code",
   "execution_count": 2,
   "id": "513505e0-38a1-484b-ac18-19612ac8694d",
   "metadata": {},
   "outputs": [
    {
     "name": "stdin",
     "output_type": "stream",
     "text": [
      "enter the number:  5\n"
     ]
    },
    {
     "name": "stdout",
     "output_type": "stream",
     "text": [
      "120\n"
     ]
    }
   ],
   "source": [
    "def get_factorial(number):\n",
    "    factorial=1\n",
    "    if number<0:\n",
    "        return f\"factorial of {number} does not exist\"\n",
    "    elif number==0:\n",
    "        return f\"factorial of {number} is 1\"\n",
    "    else:\n",
    "        for i in range(number,1,-1):\n",
    "            factorial=factorial*i\n",
    "        return factorial\n",
    "\n",
    "try:\n",
    "    number=int(input(\"enter the number: \"))\n",
    "    print(get_factorial(number))\n",
    "\n",
    "except Exception as e:\n",
    "    print(\"invalid value entered\")"
   ]
  },
  {
   "cell_type": "markdown",
   "id": "0b5ac3b5-932c-4c15-a231-abf2bf9e84f8",
   "metadata": {},
   "source": [
    "2. Write a Python Program to Display the multiplication Table?"
   ]
  },
  {
   "cell_type": "code",
   "execution_count": 3,
   "id": "8fe56dda-5e09-4432-972c-ca63a5345f8d",
   "metadata": {},
   "outputs": [
    {
     "name": "stdin",
     "output_type": "stream",
     "text": [
      "enter a number to print multiplication table:  5\n"
     ]
    },
    {
     "name": "stdout",
     "output_type": "stream",
     "text": [
      "5 X 1 = 5\n",
      "5 X 2 = 10\n",
      "5 X 3 = 15\n",
      "5 X 4 = 20\n",
      "5 X 5 = 25\n",
      "5 X 6 = 30\n",
      "5 X 7 = 35\n",
      "5 X 8 = 40\n",
      "5 X 9 = 45\n",
      "5 X 10 = 50\n"
     ]
    }
   ],
   "source": [
    "number=int(input(\"enter a number to print multiplication table: \"))\n",
    "\n",
    "for i in range(1,11):\n",
    "    print(f\"5 X {i} = {number*i}\")"
   ]
  },
  {
   "cell_type": "code",
   "execution_count": 4,
   "id": "a54a6ef7-ea2e-4287-8ce1-8a06a46dbf02",
   "metadata": {},
   "outputs": [
    {
     "name": "stdin",
     "output_type": "stream",
     "text": [
      "enter the nnumber:  5\n"
     ]
    },
    {
     "name": "stdout",
     "output_type": "stream",
     "text": [
      "5 X 1 = 5\n",
      "5 X 2 = 10\n",
      "5 X 3 = 15\n",
      "5 X 4 = 20\n",
      "5 X 5 = 25\n",
      "5 X 6 = 30\n",
      "5 X 7 = 35\n",
      "5 X 8 = 40\n",
      "5 X 9 = 45\n",
      "5 X 10 = 50\n"
     ]
    }
   ],
   "source": [
    "def table(number):\n",
    "    for i in range(1,11):\n",
    "        print(f\"5 X {i} = {number*i}\")\n",
    "if __name__==\"__main__\":\n",
    "    try:\n",
    "        number=int(input(\"enter the nnumber: \"))\n",
    "        table(number)\n",
    "    except Exeption as e:\n",
    "        print(\"invalid value entered\")"
   ]
  },
  {
   "cell_type": "markdown",
   "id": "2d586357-b292-45f1-ab1d-d6c94bb9b5d3",
   "metadata": {},
   "source": [
    "3. Write a Python Program to Print the Fibonacci sequence?"
   ]
  },
  {
   "cell_type": "code",
   "execution_count": 5,
   "id": "0db57d6a-2f04-441f-ac4e-96c3e0f1d56d",
   "metadata": {},
   "outputs": [
    {
     "name": "stdin",
     "output_type": "stream",
     "text": [
      "enter the number:  10\n"
     ]
    },
    {
     "name": "stdout",
     "output_type": "stream",
     "text": [
      "0\n",
      "1\n",
      "1\n",
      "2\n",
      "3\n",
      "5\n",
      "8\n",
      "13\n",
      "21\n",
      "34\n",
      "55\n",
      "89\n"
     ]
    }
   ],
   "source": [
    "number=int(input(\"enter the number: \"))\n",
    "a=0\n",
    "b=1\n",
    "c=0\n",
    "if number==0:\n",
    "    print(a)\n",
    "else:\n",
    "    print(a)\n",
    "    print(b)\n",
    "for i in range(1,number+1):\n",
    "    c=a+b\n",
    "    a,b=b,a+b\n",
    "\n",
    "    print(c)\n",
    "    "
   ]
  },
  {
   "cell_type": "code",
   "execution_count": 6,
   "id": "99cd44e5-5a5d-4d1e-bd8e-2069013a8bec",
   "metadata": {},
   "outputs": [
    {
     "name": "stdin",
     "output_type": "stream",
     "text": [
      "enter the number:  10\n"
     ]
    },
    {
     "name": "stdout",
     "output_type": "stream",
     "text": [
      "[0, 1, 1, 2, 3, 5, 8, 13, 21, 34]\n"
     ]
    }
   ],
   "source": [
    "def my_fibonacci(number):\n",
    "    fibonacci_sequence=[]\n",
    "    a,b=0,1\n",
    "    for _ in range(number):\n",
    "        fibonacci_sequence.append(a)\n",
    "        a,b=b,a+b\n",
    "    return fibonacci_sequence\n",
    "\n",
    "if __name__==\"__main__\":\n",
    "    number=int(input(\"enter the number: \"))\n",
    "    print(my_fibonacci(number))"
   ]
  },
  {
   "cell_type": "markdown",
   "id": "bae41bd5-9eca-4bef-8b47-851e9abf9d8b",
   "metadata": {},
   "source": [
    "4. Write a Python Program to Check Armstrong Number?"
   ]
  },
  {
   "cell_type": "code",
   "execution_count": 7,
   "id": "761e3d29-b0e5-4f93-bb76-d2b2d20c1f5a",
   "metadata": {},
   "outputs": [
    {
     "name": "stdin",
     "output_type": "stream",
     "text": [
      "enter a number to check armstrong:  153\n"
     ]
    },
    {
     "name": "stdout",
     "output_type": "stream",
     "text": [
      "armstrong\n"
     ]
    }
   ],
   "source": [
    "number=int(input(\"enter a number to check armstrong: \"))\n",
    "number_str=str(number)\n",
    "power=len(number_str)\n",
    "sum_number=0\n",
    "for item in number_str:\n",
    "    sum_number=sum_number+int(item)**power\n",
    "if sum_number==number:\n",
    "    print(\"armstrong\")\n",
    "else:\n",
    "    print(\"not armstrong\")\n",
    "        "
   ]
  },
  {
   "cell_type": "code",
   "execution_count": 8,
   "id": "f5bec0d3-04ad-4830-a8ca-93ed99968da8",
   "metadata": {},
   "outputs": [
    {
     "name": "stdout",
     "output_type": "stream",
     "text": [
      "armstrong\n"
     ]
    }
   ],
   "source": [
    "number=\"370\"\n",
    "power=len(number)\n",
    "new_total=sum(tuple(int(item)**power for item in number))\n",
    "if new_total==int(number):\n",
    "    print(\"armstrong\")\n",
    "else:\n",
    "    print(\"not armstrong\")"
   ]
  },
  {
   "cell_type": "markdown",
   "id": "ef2b2077-a92a-44ca-8748-e49f45b1355a",
   "metadata": {},
   "source": [
    "5. Write a Python Program to Find Armstrong Number in an Interval?"
   ]
  },
  {
   "cell_type": "code",
   "execution_count": 2,
   "id": "99a3098d-f072-4e99-8378-d7edf52c3bb3",
   "metadata": {},
   "outputs": [
    {
     "name": "stdin",
     "output_type": "stream",
     "text": [
      "enter the starting number:  100\n",
      "enter the ending number:  1000\n"
     ]
    },
    {
     "name": "stdout",
     "output_type": "stream",
     "text": [
      "153\n",
      "370\n",
      "371\n",
      "407\n"
     ]
    }
   ],
   "source": [
    "start_number=int(input(\"enter the starting number: \"))\n",
    "stop_number=int(input(\"enter the ending number: \"))\n",
    "for number in range(start_number,stop_number+1):\n",
    "    lenth_number=len(str(number))\n",
    "    total=0\n",
    "    temp_number=number\n",
    "    while temp_number>0:\n",
    "        digit=temp_number%10\n",
    "        total+=digit**lenth_number\n",
    "        temp_number//=10\n",
    "    if number==total:\n",
    "        print(number)\n",
    "    \n"
   ]
  },
  {
   "cell_type": "markdown",
   "id": "612b3028-a03b-4b02-bafa-f4ae2c0d18f5",
   "metadata": {},
   "source": [
    "6. Write a Python Program to Find the Sum of Natural Numbers?"
   ]
  },
  {
   "cell_type": "code",
   "execution_count": null,
   "id": "1ea44683-6267-4e10-8d20-d9d020cfd438",
   "metadata": {},
   "outputs": [],
   "source": [
    "number=int(input(\"enter a number: \"))\n",
    "total=0\n",
    "for i in range(1,number+1):\n",
    "    total=total+1\n",
    "    print(total)"
   ]
  },
  {
   "cell_type": "markdown",
   "id": "23fb00a2-03ec-47f5-9385-166eed00fcbe",
   "metadata": {},
   "source": [
    "Q. How to reverse a string without slicing?"
   ]
  },
  {
   "cell_type": "code",
   "execution_count": null,
   "id": "9a374156-c1a4-4a17-b2e3-4a11cffd6286",
   "metadata": {},
   "outputs": [],
   "source": [
    "string=\"python\"\n",
    "reverse_string=\"\"\n",
    "for char in string:  #reverse string using for loop\n",
    "    reverse_string=char+reverse_string   #p+''=p, y+p=yp, t+yp=typ, h+typ=htyp, o+htyp+ohtyp, n+ohtyp=nohtyp\n",
    "print(reverse_string)"
   ]
  },
  {
   "cell_type": "code",
   "execution_count": null,
   "id": "3c607811-8db0-4e6e-b0d6-9d909e7d9673",
   "metadata": {},
   "outputs": [],
   "source": [
    "string=\"python\"\n",
    "reverse_string=\"\"\n",
    "count=len(string)\n",
    "while count>0:       # reverse string using while loop\n",
    "    reverse_string=reverse_string+string[count-1]\n",
    "    count=count-1\n",
    "\n",
    "print(reverse_string)"
   ]
  },
  {
   "cell_type": "code",
   "execution_count": null,
   "id": "1f8561f5-7d8e-4c1a-8921-5f22a7ba0760",
   "metadata": {},
   "outputs": [],
   "source": [
    "string=\"python\"\n",
    "print(string[::-1])    # reverse string usiing slicing"
   ]
  }
 ],
 "metadata": {
  "kernelspec": {
   "display_name": "Python 3 (ipykernel)",
   "language": "python",
   "name": "python3"
  },
  "language_info": {
   "codemirror_mode": {
    "name": "ipython",
    "version": 3
   },
   "file_extension": ".py",
   "mimetype": "text/x-python",
   "name": "python",
   "nbconvert_exporter": "python",
   "pygments_lexer": "ipython3",
   "version": "3.12.7"
  }
 },
 "nbformat": 4,
 "nbformat_minor": 5
}
