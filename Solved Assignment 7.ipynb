{
 "cells": [
  {
   "cell_type": "code",
   "execution_count": null,
   "id": "9118cfea-6c25-4ce3-9866-8d6becce78c6",
   "metadata": {},
   "outputs": [],
   "source": [
    "1. Write a Python Program to find sum of array?"
   ]
  },
  {
   "cell_type": "code",
   "execution_count": 2,
   "id": "0b093aa0-aa69-4987-9b15-a20980d44124",
   "metadata": {},
   "outputs": [
    {
     "name": "stdout",
     "output_type": "stream",
     "text": [
      "sum of array is 45\n"
     ]
    }
   ],
   "source": [
    "import array as array\n",
    "my_array=array.array(\"i\",[1,2,3,4,5,6,7,8,9])\n",
    "total=0\n",
    "for number in my_array:\n",
    "    total=total+number\n",
    "print(\"sum of array is\",total)"
   ]
  },
  {
   "cell_type": "code",
   "execution_count": 4,
   "id": "3ec06df2-c532-40f9-9171-c60a04edea2e",
   "metadata": {},
   "outputs": [
    {
     "name": "stdin",
     "output_type": "stream",
     "text": [
      "enter your number seo by comma 1,2,3,4,5,6,7,8,9\n"
     ]
    },
    {
     "name": "stdout",
     "output_type": "stream",
     "text": [
      "sum =  45\n"
     ]
    }
   ],
   "source": [
    "def total_maker(list1):\n",
    "    total=0\n",
    "    for item in list1:\n",
    "        total=total+item\n",
    "    return total\n",
    "\n",
    "if __name__==\"__main__\":\n",
    "    try:\n",
    "        list1=list(map(int,input(\"enter your number seo by comma\").split(\",\")))\n",
    "        print(\"sum = \",total_maker(list1))\n",
    "    except Exception as e:\n",
    "        print(\"invalid value entered\")"
   ]
  },
  {
   "cell_type": "code",
   "execution_count": null,
   "id": "ca9acefc-165b-4eed-8103-b56f34ac9470",
   "metadata": {},
   "outputs": [],
   "source": [
    "2. Write a Python Program to find largest element in an array?"
   ]
  },
  {
   "cell_type": "code",
   "execution_count": 7,
   "id": "eb3a4aff-aa98-4b08-90b4-1d3c596cbcad",
   "metadata": {},
   "outputs": [
    {
     "name": "stdout",
     "output_type": "stream",
     "text": [
      "largest number in list is: 300\n"
     ]
    }
   ],
   "source": [
    "list1=[1,2,300,4,5]\n",
    "largest=list1[0]\n",
    "for number in list1:\n",
    "    if largest<number:\n",
    "        largest=number\n",
    "\n",
    "print(\"largest number in list is:\",largest)"
   ]
  },
  {
   "cell_type": "code",
   "execution_count": 30,
   "id": "b5fb35c0-4c12-465b-9684-1d33cc01f0b9",
   "metadata": {},
   "outputs": [
    {
     "name": "stdin",
     "output_type": "stream",
     "text": [
      "enter number of elements will be in the list:  9\n",
      "enter the 1 element:  1\n",
      "enter the 2 element:  2\n",
      "enter the 3 element:  3\n",
      "enter the 4 element:  4\n",
      "enter the 5 element:  5\n",
      "enter the 6 element:  6\n",
      "enter the 7 element:  7\n",
      "enter the 8 element:  8\n",
      "enter the 9 element:  9\n"
     ]
    },
    {
     "name": "stdout",
     "output_type": "stream",
     "text": [
      "your list is [1, 2, 3, 4, 5, 6, 7, 8, 9]\n",
      "largest number in your list is 9\n"
     ]
    }
   ],
   "source": [
    "def get_largest(list1):\n",
    "    largest=list1[0]\n",
    "    for number in list1:\n",
    "        if largest<number:\n",
    "            largest=number\n",
    "    return largest\n",
    "\n",
    "if __name__==\"__main__\":\n",
    "    try:\n",
    "        list_lenth=int(input(\"enter number of elements will be in the list: \"))\n",
    "        list1=[]\n",
    "        for i in range(list_lenth):\n",
    "            elements=int(input(f\"enter the {i+1} element: \"))\n",
    "            list1.append(elements)\n",
    "        print(\"your list is\",list1)\n",
    "        print(\"largest number in your list is\",get_largest(list1))\n",
    "    except Exception as e:\n",
    "        print(\"only numeric numbers are allowed to enter\")"
   ]
  },
  {
   "cell_type": "code",
   "execution_count": null,
   "id": "a81f01ba-ce19-45ad-ac0f-e07104b8bdb5",
   "metadata": {},
   "outputs": [],
   "source": [
    "3. Write a Python Program for array rotation?"
   ]
  },
  {
   "cell_type": "code",
   "execution_count": 13,
   "id": "cf7771af-e1b7-45a5-885d-b736a0f32f1f",
   "metadata": {},
   "outputs": [
    {
     "name": "stdout",
     "output_type": "stream",
     "text": [
      "original array: deque([100, 499, 300, 200, 400, 555, 482, 700])\n",
      "rotated array: deque([555, 482, 700, 100, 499, 300, 200, 400])\n"
     ]
    }
   ],
   "source": [
    "from collections import deque\n",
    "d=deque([100,499,300,200,400,555,482,700])\n",
    "print(\"original array:\",d)\n",
    "d.rotate(3) #roteted by 3 position\n",
    "print(\"rotated array:\",d)"
   ]
  },
  {
   "cell_type": "code",
   "execution_count": null,
   "id": "32ed480d-7643-43a0-b349-dcce44a2492d",
   "metadata": {},
   "outputs": [],
   "source": [
    "4. Write a Python Program to Split the array and add the first part to the end?"
   ]
  },
  {
   "cell_type": "code",
   "execution_count": 29,
   "id": "be666aec-a6dd-48ee-a415-9ece7c695a43",
   "metadata": {},
   "outputs": [
    {
     "name": "stdout",
     "output_type": "stream",
     "text": [
      "Splited array first part to end [6, 7, 8, 9, 1, 2, 3, 4, 5]\n"
     ]
    }
   ],
   "source": [
    "stop=5\n",
    "list1=[1,2,3,4,5,6,7,8,9]\n",
    "first_part=list1[:stop]\n",
    "second_part=list1[stop:]\n",
    "print(\"Splited array first part to end\",second_part+first_part)"
   ]
  },
  {
   "cell_type": "code",
   "execution_count": null,
   "id": "0e3a8330-d5f5-4511-9cab-ad28ee75711c",
   "metadata": {},
   "outputs": [],
   "source": [
    "5. Write a Python Program to check if given array is Monotonic?"
   ]
  },
  {
   "cell_type": "code",
   "execution_count": 27,
   "id": "c5ff12dc-3304-4de2-9cf3-cca998907365",
   "metadata": {},
   "outputs": [
    {
     "name": "stdout",
     "output_type": "stream",
     "text": [
      "monotonic\n"
     ]
    }
   ],
   "source": [
    "list1=[5,4,4,3,2,1]\n",
    "if all(list1[i]>=list1[i+1] for i in range(len(list1)-1)) or (list1[i]<=list1[i+1] for i in range(len(list1)-1)): \n",
    "    print(\"monotonic\")\n",
    "else:\n",
    "    print(\"non monotonic\")"
   ]
  },
  {
   "cell_type": "code",
   "execution_count": 28,
   "id": "a749a244-ab49-4dcc-96eb-2b9799fba8cb",
   "metadata": {},
   "outputs": [
    {
     "name": "stdout",
     "output_type": "stream",
     "text": [
      "array is monotonic\n"
     ]
    }
   ],
   "source": [
    "def isMonotonic(list1):\n",
    "    for i in range(len(list1)-1):\n",
    "        if list1[i] >= list1[i + 1] or list1[i] <= list1[i + 1]:\n",
    "            return \"array is monotonic\"\n",
    "        else:\n",
    "            return \"array is non monotonic\"\n",
    "list1 =[1, 2, 2, 3]\n",
    "print(isMonotonic(list1))\n"
   ]
  },
  {
   "cell_type": "code",
   "execution_count": null,
   "id": "08e0da77-87d5-4698-b787-e0805ea2b184",
   "metadata": {},
   "outputs": [],
   "source": []
  }
 ],
 "metadata": {
  "kernelspec": {
   "display_name": "Python 3 (ipykernel)",
   "language": "python",
   "name": "python3"
  },
  "language_info": {
   "codemirror_mode": {
    "name": "ipython",
    "version": 3
   },
   "file_extension": ".py",
   "mimetype": "text/x-python",
   "name": "python",
   "nbconvert_exporter": "python",
   "pygments_lexer": "ipython3",
   "version": "3.12.7"
  }
 },
 "nbformat": 4,
 "nbformat_minor": 5
}
