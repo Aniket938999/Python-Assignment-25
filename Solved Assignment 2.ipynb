{
 "cells": [
  {
   "cell_type": "markdown",
   "id": "266c9a02-dcaa-41f9-b3d1-4b0c5fcd976c",
   "metadata": {},
   "source": [
    "1. Write a Python program to convert kilometers to miles?"
   ]
  },
  {
   "cell_type": "code",
   "execution_count": 8,
   "id": "13e6c148-cefa-4a85-84bc-e56bdc0bd31c",
   "metadata": {},
   "outputs": [
    {
     "name": "stdin",
     "output_type": "stream",
     "text": [
      "enter the value in km:  12\n"
     ]
    },
    {
     "name": "stdout",
     "output_type": "stream",
     "text": [
      "7.452\n"
     ]
    }
   ],
   "source": [
    "kilometer=int(input(\"enter the value in km: \"))\n",
    "miles=kilometer*0.621\n",
    "print(miles)\n"
   ]
  },
  {
   "cell_type": "code",
   "execution_count": 9,
   "id": "ee3c7d95-1793-4107-ab09-e9beddd2afc9",
   "metadata": {},
   "outputs": [
    {
     "name": "stdin",
     "output_type": "stream",
     "text": [
      "enter value in km:  12\n"
     ]
    },
    {
     "name": "stdout",
     "output_type": "stream",
     "text": [
      "Miles is in {12} are:  7.452\n"
     ]
    }
   ],
   "source": [
    "def miles_converter(kilometer):\n",
    "    return kilometer*0.621\n",
    "kilometer=int(input(\"enter value in km: \"))\n",
    "print(\"Miles is in\",{kilometer}, \"are: \",miles_converter(12))\n"
   ]
  },
  {
   "cell_type": "markdown",
   "id": "6bdbf489-60c0-4fa7-b6f7-165fbcee5577",
   "metadata": {},
   "source": [
    "2.Write a Python program to convert Celsius to Fahrenheit?"
   ]
  },
  {
   "cell_type": "code",
   "execution_count": 13,
   "id": "9b21e197-bfc9-48a5-a9e0-9efc530979fe",
   "metadata": {},
   "outputs": [
    {
     "name": "stdin",
     "output_type": "stream",
     "text": [
      "enter the value in celsius:  12\n"
     ]
    },
    {
     "name": "stdout",
     "output_type": "stream",
     "text": [
      "fahrenheit is in 12.0 are: 53.6\n"
     ]
    }
   ],
   "source": [
    "celsius=float(input(\"enter the value in celsius: \"))\n",
    "fahrenheit=(celsius*9/5)+32\n",
    "print(\"fahrenheit is in\",celsius, \"are:\",fahrenheit)"
   ]
  },
  {
   "cell_type": "code",
   "execution_count": 14,
   "id": "097e37ff-4aac-400e-b5fa-4371d30dd6c0",
   "metadata": {},
   "outputs": [
    {
     "name": "stdin",
     "output_type": "stream",
     "text": [
      "enter the valie in celsius:  12\n"
     ]
    },
    {
     "name": "stdout",
     "output_type": "stream",
     "text": [
      "fahrenheit is in 12 are 53.6\n"
     ]
    }
   ],
   "source": [
    "def temp_converter(celsius):\n",
    "    fahrenheit=(celsius*9/5)+32\n",
    "    print(F\"fahrenheit is in {celsius} are {fahrenheit}\")\n",
    "    return fahrenheit\n",
    "celsius=float(input(\"enter the valie in celsius: \"))\n",
    "temp_converter(12)"
   ]
  },
  {
   "cell_type": "markdown",
   "id": "352f9d7b-4bfb-49ac-866d-b3c3242c31cf",
   "metadata": {},
   "source": [
    "3. Write a Python program to display calendar?"
   ]
  },
  {
   "cell_type": "code",
   "execution_count": 15,
   "id": "304f7b74-6c33-44d1-9501-7e0f7bc2d3ef",
   "metadata": {},
   "outputs": [
    {
     "name": "stdout",
     "output_type": "stream",
     "text": [
      "                                  2024\n",
      "\n",
      "      January                   February                   March\n",
      "Mo Tu We Th Fr Sa Su      Mo Tu We Th Fr Sa Su      Mo Tu We Th Fr Sa Su\n",
      " 1  2  3  4  5  6  7                1  2  3  4                   1  2  3\n",
      " 8  9 10 11 12 13 14       5  6  7  8  9 10 11       4  5  6  7  8  9 10\n",
      "15 16 17 18 19 20 21      12 13 14 15 16 17 18      11 12 13 14 15 16 17\n",
      "22 23 24 25 26 27 28      19 20 21 22 23 24 25      18 19 20 21 22 23 24\n",
      "29 30 31                  26 27 28 29               25 26 27 28 29 30 31\n",
      "\n",
      "       April                      May                       June\n",
      "Mo Tu We Th Fr Sa Su      Mo Tu We Th Fr Sa Su      Mo Tu We Th Fr Sa Su\n",
      " 1  2  3  4  5  6  7             1  2  3  4  5                      1  2\n",
      " 8  9 10 11 12 13 14       6  7  8  9 10 11 12       3  4  5  6  7  8  9\n",
      "15 16 17 18 19 20 21      13 14 15 16 17 18 19      10 11 12 13 14 15 16\n",
      "22 23 24 25 26 27 28      20 21 22 23 24 25 26      17 18 19 20 21 22 23\n",
      "29 30                     27 28 29 30 31            24 25 26 27 28 29 30\n",
      "\n",
      "        July                     August                  September\n",
      "Mo Tu We Th Fr Sa Su      Mo Tu We Th Fr Sa Su      Mo Tu We Th Fr Sa Su\n",
      " 1  2  3  4  5  6  7                1  2  3  4                         1\n",
      " 8  9 10 11 12 13 14       5  6  7  8  9 10 11       2  3  4  5  6  7  8\n",
      "15 16 17 18 19 20 21      12 13 14 15 16 17 18       9 10 11 12 13 14 15\n",
      "22 23 24 25 26 27 28      19 20 21 22 23 24 25      16 17 18 19 20 21 22\n",
      "29 30 31                  26 27 28 29 30 31         23 24 25 26 27 28 29\n",
      "                                                    30\n",
      "\n",
      "      October                   November                  December\n",
      "Mo Tu We Th Fr Sa Su      Mo Tu We Th Fr Sa Su      Mo Tu We Th Fr Sa Su\n",
      "    1  2  3  4  5  6                   1  2  3                         1\n",
      " 7  8  9 10 11 12 13       4  5  6  7  8  9 10       2  3  4  5  6  7  8\n",
      "14 15 16 17 18 19 20      11 12 13 14 15 16 17       9 10 11 12 13 14 15\n",
      "21 22 23 24 25 26 27      18 19 20 21 22 23 24      16 17 18 19 20 21 22\n",
      "28 29 30 31               25 26 27 28 29 30         23 24 25 26 27 28 29\n",
      "                                                    30 31\n",
      "\n"
     ]
    }
   ],
   "source": [
    "import calendar\n",
    "\n",
    "print(calendar.calendar(2024))"
   ]
  },
  {
   "cell_type": "code",
   "execution_count": 16,
   "id": "4fb226d5-13ca-46af-860d-eea157b6e8cf",
   "metadata": {},
   "outputs": [
    {
     "name": "stdout",
     "output_type": "stream",
     "text": [
      "   December 2024\n",
      "Mo Tu We Th Fr Sa Su\n",
      "                   1\n",
      " 2  3  4  5  6  7  8\n",
      " 9 10 11 12 13 14 15\n",
      "16 17 18 19 20 21 22\n",
      "23 24 25 26 27 28 29\n",
      "30 31\n",
      "\n"
     ]
    }
   ],
   "source": [
    "import calendar\n",
    "print(calendar.month(2024,12))"
   ]
  },
  {
   "cell_type": "markdown",
   "id": "c0e44a69-508b-4bb4-b67c-a6d151807cad",
   "metadata": {},
   "source": [
    "4. Write a Python program to solve quadratic equation?"
   ]
  },
  {
   "cell_type": "code",
   "execution_count": 18,
   "id": "296ab4eb-d02b-4e82-9ea7-3c7dbfadb9e8",
   "metadata": {},
   "outputs": [
    {
     "name": "stdin",
     "output_type": "stream",
     "text": [
      "enter the value of a (a!=0):  5\n",
      "enter the value of b:  6\n",
      "enter the value of c:  7\n"
     ]
    },
    {
     "name": "stdout",
     "output_type": "stream",
     "text": [
      "first root is 162.48239349298848 and second root is -192.48239349298848\n"
     ]
    }
   ],
   "source": [
    "import math\n",
    "a=int(input(\"enter the value of a (a!=0): \"))\n",
    "b=int(input(\"enter the value of b: \"))\n",
    "c=int(input(\"enter the value of c: \"))\n",
    "\n",
    "root1=((-b+math.sqrt(b**2*4*a*c))/2*a)\n",
    "\n",
    "root2=((-b-math.sqrt(b**2*4*a*c))/2*a)\n",
    "\n",
    "print(f\"first root is {root1} and second root is {root2}\")\n"
   ]
  },
  {
   "cell_type": "markdown",
   "id": "3b634b4b-f516-406d-b54f-44923caacb84",
   "metadata": {},
   "source": [
    "5.Write a Python program to swap two variables without temp variable?"
   ]
  },
  {
   "cell_type": "code",
   "execution_count": null,
   "id": "792ed52c-1aca-4845-ae3f-a11d732c48b2",
   "metadata": {},
   "outputs": [],
   "source": []
  }
 ],
 "metadata": {
  "kernelspec": {
   "display_name": "Python 3 (ipykernel)",
   "language": "python",
   "name": "python3"
  },
  "language_info": {
   "codemirror_mode": {
    "name": "ipython",
    "version": 3
   },
   "file_extension": ".py",
   "mimetype": "text/x-python",
   "name": "python",
   "nbconvert_exporter": "python",
   "pygments_lexer": "ipython3",
   "version": "3.12.7"
  }
 },
 "nbformat": 4,
 "nbformat_minor": 5
}
