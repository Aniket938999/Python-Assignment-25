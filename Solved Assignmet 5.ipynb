{
 "cells": [
  {
   "cell_type": "markdown",
   "id": "d1da8de9-a96a-4259-9557-66e7f7dc1544",
   "metadata": {},
   "source": [
    "1. Write a Python Program to Find LCM?"
   ]
  },
  {
   "cell_type": "code",
   "execution_count": 5,
   "id": "735f46a7-83b3-491b-9320-519149585d59",
   "metadata": {},
   "outputs": [
    {
     "name": "stdin",
     "output_type": "stream",
     "text": [
      "enter first number:  9\n",
      "enter second number:  6\n"
     ]
    },
    {
     "name": "stdout",
     "output_type": "stream",
     "text": [
      "LCM of 9 and 6 is 18\n"
     ]
    }
   ],
   "source": [
    "number1=int(input(\"enter first number: \"))712\n",
    "number2=int(input(\"enter second number: \"))\n",
    "if(number1>number2):\n",
    "    biggest_number=number1\n",
    "else:\n",
    "    biggest_number=number2\n",
    "while True:\n",
    "    if (bigggest_number%number1==0) and (biggest_number%number2==0):\n",
    "        break\n",
    "    biggest_number=biggest_number+1\n",
    "    \n",
    "print(f\"LCM of {number1} and {number2} is {biggest_number}\")\n",
    "        "
   ]
  },
  {
   "cell_type": "markdown",
   "id": "919a19ef-d0c5-4a53-8391-2a6fc71a79d9",
   "metadata": {},
   "source": [
    "2. Write a Python Program to Find HCF?"
   ]
  },
  {
   "cell_type": "code",
   "execution_count": 1,
   "id": "d5b7a2c8-4332-4992-9fea-e6d6d345346e",
   "metadata": {},
   "outputs": [
    {
     "name": "stdin",
     "output_type": "stream",
     "text": [
      "enter the first number:  12\n",
      "enter the second number:  7\n"
     ]
    },
    {
     "name": "stdout",
     "output_type": "stream",
     "text": [
      "HCF of 12 and 7 is 1\n"
     ]
    }
   ],
   "source": [
    "number1=int(input(\"enter the first number: \"))\n",
    "number2=int(input(\"enter the second number: \"))\n",
    "if number2>number1:\n",
    "    min_number=number1     \n",
    "else:\n",
    "    min_number=number2\n",
    "\n",
    "for i in range(1,min_number+1):\n",
    "    if number1%i==0 and number2%i==0:\n",
    "        HCF=i\n",
    "\n",
    "print(f\"HCF of {number1} and {number2} is {HCF}\")\n",
    "    "
   ]
  },
  {
   "cell_type": "markdown",
   "id": "3d83d83d-82f3-47a3-ac6f-66a690958dd1",
   "metadata": {},
   "source": [
    "3. Write a Python Program to Convert Decimal to Binary, Octal and Hexadecimal?"
   ]
  },
  {
   "cell_type": "code",
   "execution_count": 3,
   "id": "ba63715d-889e-4bcb-91c1-bf1a3ea8c96a",
   "metadata": {},
   "outputs": [
    {
     "name": "stdin",
     "output_type": "stream",
     "text": [
      "Enter the decimal number:  9\n"
     ]
    },
    {
     "name": "stdout",
     "output_type": "stream",
     "text": [
      "9 is in binary number 1001\n",
      "9 is in octal number 11\n",
      "9 is in hexadecimal number 9\n"
     ]
    }
   ],
   "source": [
    "decimal_numner=int(input(\"Enter the decimal number: \"))\n",
    "binary_number=bin(decimal_numner)[2:]\n",
    "octal_number=oct(decimal_numner)[2:]\n",
    "hexadecimal_number=hex(decimal_numner)[2:]\n",
    "print(f\"{decimal_numner} is in binary number {binary_number}\")\n",
    "print(f\"{decimal_numner} is in octal number {octal_number}\")\n",
    "print(f\"{decimal_numner} is in hexadecimal number {hexadecimal_number}\")"
   ]
  },
  {
   "cell_type": "code",
   "execution_count": 7,
   "id": "610cfcac-2116-49bb-94fc-7ad349160fb1",
   "metadata": {},
   "outputs": [
    {
     "name": "stdin",
     "output_type": "stream",
     "text": [
      "Enter the decimal number:  9\n"
     ]
    },
    {
     "name": "stdout",
     "output_type": "stream",
     "text": [
      "9 is in binary number 1001\n",
      "9 is in octal number 11\n",
      "9 is in hexadecimal number 9\n"
     ]
    }
   ],
   "source": [
    "def convert_decimal(decimal):\n",
    "    binary_number=bin(decimal_numner)[2:]\n",
    "    octal_number=oct(decimal_numner)[2:]\n",
    "    hexadecimal_number=hex(decimal_numner)[2:]\n",
    "    print(f\"{decimal_numner} is in binary number {binary_number}\")\n",
    "    print(f\"{decimal_numner} is in octal number {octal_number}\")\n",
    "    print(f\"{decimal_numner} is in hexadecimal number {hexadecimal_number}\")\n",
    "    \n",
    "    \n",
    "\n",
    "try:\n",
    "    decimal_numner=int(input(\"Enter the decimal number: \"))\n",
    "    convert_decimal(decimal_numner)\n",
    "\n",
    "except Exception as e:\n",
    "    print(\"number is not valid to convert\")\n",
    "    \n",
    "    "
   ]
  },
  {
   "cell_type": "code",
   "execution_count": null,
   "id": "76227aae-8f6a-4800-8eb2-dc921e514ecb",
   "metadata": {},
   "outputs": [],
   "source": [
    "# Function to convert decimal to binary, octal, and hexadecimal\n",
    "def convert_decimal(number):\n",
    "    # Convert decimal to binary, octal, and hexadecimal\n",
    "    binary = bin(number)\n",
    "    octal = oct(number)\n",
    "    hexadecimal = hex(number)\n",
    "    \n",
    "    # Display the results\n",
    "    print(f\"Decimal: {number}\")\n",
    "    print(f\"Binary: {binary[2:]}\")  # Removing the '0b' prefix\n",
    "    print(f\"Octal: {octal[2:]}\")    # Removing the '0o' prefix\n",
    "    print(f\"Hexadecimal: {hexadecimal[2:].upper()}\")  # Removing '0x' prefix and converting to uppercase\n",
    "\n",
    "# Input: Decimal number\n",
    "decimal_number = int(input(\"Enter a decimal number: \"))\n",
    "\n",
    "# Call the function\n",
    "convert_decimal(decimal_number)\n"
   ]
  },
  {
   "cell_type": "markdown",
   "id": "2e04e38d-672b-45ee-beda-11e2db2106dd",
   "metadata": {},
   "source": [
    "4. Write a Python Program To Find ASCII value of a character?"
   ]
  },
  {
   "cell_type": "code",
   "execution_count": 4,
   "id": "3f0e45a3-982f-4db2-bacb-ce29e999d58e",
   "metadata": {},
   "outputs": [
    {
     "name": "stdin",
     "output_type": "stream",
     "text": [
      "Enter a character:  A\n"
     ]
    },
    {
     "name": "stdout",
     "output_type": "stream",
     "text": [
      "ASCII value of A is 65\n"
     ]
    }
   ],
   "source": [
    "character = input(\"Enter a character: \")\n",
    "ASCII_value=ord(character)               # find charactor to ASCII print(chr(ASCII))\n",
    "print(f\"ASCII value of {character} is {ASCII_value}\")\n"
   ]
  },
  {
   "cell_type": "code",
   "execution_count": 21,
   "id": "fc25839e-ce9b-497f-a42d-101bbeb06150",
   "metadata": {},
   "outputs": [
    {
     "name": "stdin",
     "output_type": "stream",
     "text": [
      "enter a character:  A\n"
     ]
    },
    {
     "name": "stdout",
     "output_type": "stream",
     "text": [
      "ASCII value of A is 65\n"
     ]
    }
   ],
   "source": [
    "def ASCII_value_finder(character):\n",
    "    ASCII_value=ord(character)\n",
    "    return f\"ASCII value of {character} is {ASCII_value}\"\n",
    "\n",
    "try:\n",
    "    character=input(\"enter a character: \")\n",
    "    print(ASCII_value_finder(character))\n",
    "except Exception as e:\n",
    "    print(\"invalid value enteered to find ASCII\")"
   ]
  },
  {
   "cell_type": "markdown",
   "id": "4f1ebe91-9b13-45e3-b1f2-eacbbda82535",
   "metadata": {},
   "source": [
    "5. Write a Python Program to Make a Simple Calculator with 4 basic mathematical operations?"
   ]
  },
  {
   "cell_type": "code",
   "execution_count": 2,
   "id": "798e55e3-a414-4ad1-bfba-efe896f769c0",
   "metadata": {},
   "outputs": [
    {
     "name": "stdout",
     "output_type": "stream",
     "text": [
      "*************Calculater*************\n"
     ]
    },
    {
     "name": "stdin",
     "output_type": "stream",
     "text": [
      "Enter the first number:  8\n",
      "Enter the second number:  5\n"
     ]
    },
    {
     "name": "stdout",
     "output_type": "stream",
     "text": [
      "Choose one option to calculate the numbers accordind to your choice\n",
      "press 1 for addition \n",
      "press 2 for subtraction \n",
      "press 3 for multiplication \n",
      "press 4 for division \n"
     ]
    },
    {
     "name": "stdin",
     "output_type": "stream",
     "text": [
      "choose one option to calculate the numbers:  1\n"
     ]
    },
    {
     "name": "stdout",
     "output_type": "stream",
     "text": [
      "addition of numbers is:  13.0\n"
     ]
    }
   ],
   "source": [
    "print(\"*************Calculater*************\")\n",
    "number1=float(input(\"Enter the first number: \"))\n",
    "number2=float(input(\"Enter the second number: \"))\n",
    "print(\"Choose one option to calculate the numbers accordind to your choice\")\n",
    "print(\"press 1 for addition \\npress 2 for subtraction \\npress 3 for multiplication \\npress 4 for division \")\n",
    "choice=int(input(\"choose one option to calculate the numbers: \"))\n",
    "if choice==1:\n",
    "    print(\"addition of numbers is: \",number1+number2)\n",
    "elif choice==2:\n",
    "    print(\"subtraction of numbers is: \",number1-number2)\n",
    "elif choice==3:\n",
    "    print(\"multiplication of numbers is: \",number1*number2)\n",
    "elif choice==4:\n",
    "    print(\"divition of numbers is: \",number1/number2)\n",
    "else:\n",
    "    print(\"invalid number entered for calculation choose 1/2/3/4\")\n",
    "                    "
   ]
  },
  {
   "cell_type": "code",
   "execution_count": 2,
   "id": "43d1c6b1-e649-4965-b92e-bd3eee6ad643",
   "metadata": {},
   "outputs": [
    {
     "ename": "NameError",
     "evalue": "name 'char' is not defined",
     "output_type": "error",
     "traceback": [
      "\u001b[1;31m---------------------------------------------------------------------------\u001b[0m",
      "\u001b[1;31mNameError\u001b[0m                                 Traceback (most recent call last)",
      "Cell \u001b[1;32mIn[2], line 1\u001b[0m\n\u001b[1;32m----> 1\u001b[0m \u001b[38;5;28mprint\u001b[39m(char(\u001b[38;5;241m65\u001b[39m))\n",
      "\u001b[1;31mNameError\u001b[0m: name 'char' is not defined"
     ]
    }
   ],
   "source": []
  },
  {
   "cell_type": "code",
   "execution_count": null,
   "id": "0ecbd2c7-7cdc-43cb-97ee-26841fef4f5f",
   "metadata": {},
   "outputs": [],
   "source": []
  }
 ],
 "metadata": {
  "kernelspec": {
   "display_name": "Python 3 (ipykernel)",
   "language": "python",
   "name": "python3"
  },
  "language_info": {
   "codemirror_mode": {
    "name": "ipython",
    "version": 3
   },
   "file_extension": ".py",
   "mimetype": "text/x-python",
   "name": "python",
   "nbconvert_exporter": "python",
   "pygments_lexer": "ipython3",
   "version": "3.12.7"
  }
 },
 "nbformat": 4,
 "nbformat_minor": 5
}
