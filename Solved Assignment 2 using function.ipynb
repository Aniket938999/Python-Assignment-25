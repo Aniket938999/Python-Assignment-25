{
 "cells": [
  {
   "cell_type": "markdown",
   "id": "a8615df4-d61d-4c32-8c64-94ac05523b46",
   "metadata": {},
   "source": [
    "1. Write a Python program to convert kilometers to miles?"
   ]
  },
  {
   "cell_type": "code",
   "execution_count": 4,
   "id": "07d68fdf-67c9-410b-aa80-7a5d955961f6",
   "metadata": {},
   "outputs": [
    {
     "name": "stdin",
     "output_type": "stream",
     "text": [
      "enter distance in kilometer:  5\n"
     ]
    },
    {
     "name": "stdout",
     "output_type": "stream",
     "text": [
      "5.0 kilometer = 3.105 miles\n"
     ]
    }
   ],
   "source": [
    "def converter(kilometer):\n",
    "    miles=0.621*kilometer\n",
    "    return miles\n",
    "\n",
    "if __name__==\"__main__\":\n",
    "    try:\n",
    "        kilometer=float(input(\"enter distance in kilometer: \"))\n",
    "        print(f\"{kilometer} kilometer = {converter(kilometer)} miles\")\n",
    "    except Exception as e:\n",
    "        print(\"only numbers are allowed\")\n",
    "    "
   ]
  },
  {
   "cell_type": "markdown",
   "id": "cad6245e-d080-49b3-92c2-6fdc0b71fde8",
   "metadata": {},
   "source": [
    "2. Write a Python program to convert Celsius to Fahrenheit?"
   ]
  },
  {
   "cell_type": "code",
   "execution_count": 9,
   "id": "3c7a0ea9-a650-4a3a-99a1-daf49faff32a",
   "metadata": {},
   "outputs": [
    {
     "name": "stdin",
     "output_type": "stream",
     "text": [
      "enter temprature in celsius:  10\n"
     ]
    },
    {
     "name": "stdout",
     "output_type": "stream",
     "text": [
      "10.0 celsius = 50.0 fahrenheit\n"
     ]
    }
   ],
   "source": [
    "def temp_converter(celsius):\n",
    "    fahrenheit=(celsius*9/5)+32\n",
    "    return fahrenheit\n",
    "\n",
    "if __name__==\"__main__\":\n",
    "    try:\n",
    "        celsius=float(input(\"enter temprature in celsius: \"))\n",
    "        print(f\"{celsius} celsius = {temp_converter(celsius)} fahrenheit\")\n",
    "    except Exception as e:\n",
    "        print(\"only numbers are allowed\")"
   ]
  },
  {
   "cell_type": "markdown",
   "id": "25120660-0884-483d-849a-da9b7322bd22",
   "metadata": {},
   "source": [
    "3. Write a Python program to display calendar?"
   ]
  },
  {
   "cell_type": "code",
   "execution_count": 14,
   "id": "67b3c3c5-fdda-4fd0-8d9c-11513882cca3",
   "metadata": {},
   "outputs": [
    {
     "name": "stdout",
     "output_type": "stream",
     "text": [
      "                                  2024\n",
      "\n",
      "      January                   February                   March\n",
      "Mo Tu We Th Fr Sa Su      Mo Tu We Th Fr Sa Su      Mo Tu We Th Fr Sa Su\n",
      " 1  2  3  4  5  6  7                1  2  3  4                   1  2  3\n",
      " 8  9 10 11 12 13 14       5  6  7  8  9 10 11       4  5  6  7  8  9 10\n",
      "15 16 17 18 19 20 21      12 13 14 15 16 17 18      11 12 13 14 15 16 17\n",
      "22 23 24 25 26 27 28      19 20 21 22 23 24 25      18 19 20 21 22 23 24\n",
      "29 30 31                  26 27 28 29               25 26 27 28 29 30 31\n",
      "\n",
      "       April                      May                       June\n",
      "Mo Tu We Th Fr Sa Su      Mo Tu We Th Fr Sa Su      Mo Tu We Th Fr Sa Su\n",
      " 1  2  3  4  5  6  7             1  2  3  4  5                      1  2\n",
      " 8  9 10 11 12 13 14       6  7  8  9 10 11 12       3  4  5  6  7  8  9\n",
      "15 16 17 18 19 20 21      13 14 15 16 17 18 19      10 11 12 13 14 15 16\n",
      "22 23 24 25 26 27 28      20 21 22 23 24 25 26      17 18 19 20 21 22 23\n",
      "29 30                     27 28 29 30 31            24 25 26 27 28 29 30\n",
      "\n",
      "        July                     August                  September\n",
      "Mo Tu We Th Fr Sa Su      Mo Tu We Th Fr Sa Su      Mo Tu We Th Fr Sa Su\n",
      " 1  2  3  4  5  6  7                1  2  3  4                         1\n",
      " 8  9 10 11 12 13 14       5  6  7  8  9 10 11       2  3  4  5  6  7  8\n",
      "15 16 17 18 19 20 21      12 13 14 15 16 17 18       9 10 11 12 13 14 15\n",
      "22 23 24 25 26 27 28      19 20 21 22 23 24 25      16 17 18 19 20 21 22\n",
      "29 30 31                  26 27 28 29 30 31         23 24 25 26 27 28 29\n",
      "                                                    30\n",
      "\n",
      "      October                   November                  December\n",
      "Mo Tu We Th Fr Sa Su      Mo Tu We Th Fr Sa Su      Mo Tu We Th Fr Sa Su\n",
      "    1  2  3  4  5  6                   1  2  3                         1\n",
      " 7  8  9 10 11 12 13       4  5  6  7  8  9 10       2  3  4  5  6  7  8\n",
      "14 15 16 17 18 19 20      11 12 13 14 15 16 17       9 10 11 12 13 14 15\n",
      "21 22 23 24 25 26 27      18 19 20 21 22 23 24      16 17 18 19 20 21 22\n",
      "28 29 30 31               25 26 27 28 29 30         23 24 25 26 27 28 29\n",
      "                                                    30 31\n",
      "\n"
     ]
    }
   ],
   "source": [
    "import calendar\n",
    "print(calendar.calendar(2024))"
   ]
  },
  {
   "cell_type": "code",
   "execution_count": 15,
   "id": "85bae6ad-6d2f-4c0f-b055-2def3de0d65a",
   "metadata": {},
   "outputs": [
    {
     "name": "stdout",
     "output_type": "stream",
     "text": [
      "   December 2024\n",
      "Mo Tu We Th Fr Sa Su\n",
      "                   1\n",
      " 2  3  4  5  6  7  8\n",
      " 9 10 11 12 13 14 15\n",
      "16 17 18 19 20 21 22\n",
      "23 24 25 26 27 28 29\n",
      "30 31\n",
      "\n"
     ]
    }
   ],
   "source": [
    "print(calendar.month(2024,12))"
   ]
  },
  {
   "cell_type": "markdown",
   "id": "c4802779-af9e-464d-b7a1-284b3ce74bf9",
   "metadata": {},
   "source": [
    "4. Write a Python program to solve quadratic equation?"
   ]
  },
  {
   "cell_type": "code",
   "execution_count": 41,
   "id": "b2210188-3950-465e-893d-6f7639b8ad3c",
   "metadata": {},
   "outputs": [
    {
     "name": "stdin",
     "output_type": "stream",
     "text": [
      "enter value of a where a!=0:  4\n",
      "enter value of b:  8\n",
      "enter value of c:  4\n"
     ]
    },
    {
     "name": "stdout",
     "output_type": "stream",
     "text": [
      "The solutions are: (-0.002463084072829247+0j) and (-202.99753691592718+0j)\n"
     ]
    }
   ],
   "source": [
    "import cmath\n",
    "def quadratic_equation(a,b,c):\n",
    "    discriminant = cmath.sqrt(b**2 - 4*a*c)\n",
    "    x1 = (-b + discriminant) / (2*a)\n",
    "    x2 = (-b - discriminant) / (2*a)\n",
    "\n",
    "    return x1,x2\n",
    "\n",
    "if __name__==\"__main__\":\n",
    "    try:\n",
    "        a=float(input(\"enter value of a where a!=0: \"))\n",
    "        b=float(input(\"enter value of b: \"))\n",
    "        c=float(input(\"enter value of c: \"))\n",
    "        quadratic_equation(a,b,c)\n",
    "        print(f\"The solutions are: {x1} and {x2}\")\n",
    "\n",
    "    except Exception as e:\n",
    "        print(\"only numbers are allowed\")"
   ]
  },
  {
   "cell_type": "code",
   "execution_count": null,
   "id": "df6c3bb1-521e-4345-8e21-97f93ae3d885",
   "metadata": {},
   "outputs": [],
   "source": []
  }
 ],
 "metadata": {
  "kernelspec": {
   "display_name": "Python 3 (ipykernel)",
   "language": "python",
   "name": "python3"
  },
  "language_info": {
   "codemirror_mode": {
    "name": "ipython",
    "version": 3
   },
   "file_extension": ".py",
   "mimetype": "text/x-python",
   "name": "python",
   "nbconvert_exporter": "python",
   "pygments_lexer": "ipython3",
   "version": "3.12.7"
  }
 },
 "nbformat": 4,
 "nbformat_minor": 5
}
