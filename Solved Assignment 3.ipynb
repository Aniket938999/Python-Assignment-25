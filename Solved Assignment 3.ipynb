{
 "cells": [
  {
   "cell_type": "markdown",
   "id": "d692a6e1-05a1-4e22-8e5b-ce56d702629e",
   "metadata": {},
   "source": [
    "1. Write a Python Program to Check if a Number is Positive, Negative or Zero?"
   ]
  },
  {
   "cell_type": "code",
   "execution_count": 3,
   "id": "67281c47-0a76-4c3d-9f83-02d6ec7ac6de",
   "metadata": {},
   "outputs": [
    {
     "name": "stdin",
     "output_type": "stream",
     "text": [
      "enter your number 223\n"
     ]
    },
    {
     "name": "stdout",
     "output_type": "stream",
     "text": [
      "number is positive\n"
     ]
    }
   ],
   "source": [
    "def number_checker(number):\n",
    "    if number>0:\n",
    "        return \"number is positive\"\n",
    "    elif number<0:\n",
    "        return \"number is negetive\"\n",
    "    else:\n",
    "        return \"number is zero\"\n",
    "try:\n",
    "    number=int(input(\"enter your number\"))\n",
    "    print(number_checker(number))\n",
    "except Exception as e:\n",
    "    print(\"only number are allowed\",e)"
   ]
  },
  {
   "cell_type": "markdown",
   "id": "1734ff3a-909c-4d87-b637-ffda1e94e99b",
   "metadata": {},
   "source": [
    "2. Write a Python Program to Check if a Number is Odd or Even?"
   ]
  },
  {
   "cell_type": "code",
   "execution_count": 2,
   "id": "878cc888-1653-445f-a9a5-417c0a3551a6",
   "metadata": {},
   "outputs": [
    {
     "name": "stdin",
     "output_type": "stream",
     "text": [
      "enter your number:  jgkjk\n"
     ]
    },
    {
     "name": "stdout",
     "output_type": "stream",
     "text": [
      "Only  numeric number are allowed\n"
     ]
    }
   ],
   "source": [
    "def odd_even_checker(number):\n",
    "    if number%2==0:\n",
    "        return \"number is even\"\n",
    "    else:\n",
    "        return \"number is odd\"\n",
    "\n",
    "try:\n",
    "    number=int(input(\"enter your number: \"))\n",
    "    print(odd_even_checker(number))\n",
    "except Exception:\n",
    "    print(\"Only  numeric number are allowed\")"
   ]
  },
  {
   "cell_type": "markdown",
   "id": "969af501-7ff2-408c-a957-61e1bc1f3d35",
   "metadata": {},
   "source": [
    "3. Write a Python Program to Check Leap Year?"
   ]
  },
  {
   "cell_type": "code",
   "execution_count": 13,
   "id": "eb200020-68ce-4dba-ae0d-20b5bfdc92f9",
   "metadata": {},
   "outputs": [
    {
     "name": "stdin",
     "output_type": "stream",
     "text": [
      "enter any year to check leap year:  2024\n"
     ]
    },
    {
     "name": "stdout",
     "output_type": "stream",
     "text": [
      "this is a leap year\n"
     ]
    }
   ],
   "source": [
    "def is_leap_year(year):\n",
    "    if year%400==0 and year%100==0:\n",
    "        return \"this is leap year\"\n",
    "    elif year%4==0 and year%100!=0:\n",
    "        return \"this is a leap year\"\n",
    "    else:\n",
    "        return \"this is not leap year\"\n",
    "\n",
    "try:\n",
    "    year=int(input(\"enter any year to check leap year: \"))\n",
    "    print(is_leap_year(year))\n",
    "except Exception as e:\n",
    "    print(\"invalid year\",e)"
   ]
  },
  {
   "cell_type": "markdown",
   "id": "bbec4581-6e33-43a7-825b-f2b846958a4d",
   "metadata": {},
   "source": [
    "4. Write a Python Program to Check Prime Number?"
   ]
  },
  {
   "cell_type": "code",
   "execution_count": 28,
   "id": "e3554fdc-071b-400c-b728-f4756a8a38ad",
   "metadata": {},
   "outputs": [
    {
     "name": "stdin",
     "output_type": "stream",
     "text": [
      "enter your number here:  15\n"
     ]
    },
    {
     "name": "stdout",
     "output_type": "stream",
     "text": [
      "15 is not a prime number\n"
     ]
    }
   ],
   "source": [
    "number=int(input(\"enter your number here: \"))\n",
    "if number<=1:\n",
    "    print(f\"{number} is not a prime number\")\n",
    "if number>1:\n",
    "    for i in range(2,number):\n",
    "        if number%i==0:\n",
    "            print(f\"{number} is not a prime number\")\n",
    "            break\n",
    "    else:\n",
    "        print(f\"{number} is a prime number\")\n",
    "        \n",
    "            \n",
    "\n"
   ]
  },
  {
   "cell_type": "code",
   "execution_count": 34,
   "id": "f58348af-ba3f-487c-963c-6f7c5b53e83d",
   "metadata": {},
   "outputs": [
    {
     "name": "stdin",
     "output_type": "stream",
     "text": [
      "enter your number:  15\n"
     ]
    },
    {
     "name": "stdout",
     "output_type": "stream",
     "text": [
      "15 is not a prime number\n"
     ]
    }
   ],
   "source": [
    "import math\n",
    "def is_prime(number):\n",
    "    if number<=1:\n",
    "        return f\"{number} is not prime\"\n",
    "    if number>1:\n",
    "        for i in range(2,number):\n",
    "            if number%i==0:\n",
    "                return f\"{number} is not a prime number\"\n",
    "                break\n",
    "        else:\n",
    "            return f\"{number} is a prime number\"\n",
    "\n",
    "number=int(input(\"enter your number: \"))\n",
    "result=is_prime(number)\n",
    "print(result)\n",
    "                "
   ]
  },
  {
   "cell_type": "markdown",
   "id": "059c9898-d0ab-447a-a269-f3250783f9c9",
   "metadata": {},
   "source": [
    "5. Write a Python Program to Print all Prime Numbers in an Interval of 1-10000?"
   ]
  },
  {
   "cell_type": "code",
   "execution_count": 9,
   "id": "60cf602e-778d-4552-b0f9-385f48b55396",
   "metadata": {},
   "outputs": [
    {
     "name": "stdout",
     "output_type": "stream",
     "text": [
      "[1, 2, 3, 5, 7, 11, 13, 17, 19, 23, 29, 31, 37, 41, 43, 47, 53, 59, 61, 67, 71, 73, 79, 83, 89, 97]\n",
      "1061\n"
     ]
    }
   ],
   "source": [
    "prime_number_list=[]\n",
    "\n",
    "for j in range(1,101):\n",
    "    \n",
    "    for i in range(2,int(j**0.5)+1):\n",
    "        \n",
    "        if j%i==0:\n",
    "            \n",
    "            break\n",
    "    else:\n",
    "        prime_number_list.append(j)\n",
    "print(prime_number_list)\n",
    "print(sum(prime_number_list))\n",
    "            \n",
    "    \n",
    "    "
   ]
  },
  {
   "cell_type": "code",
   "execution_count": 19,
   "id": "47326bee-5fd1-4b4c-aa56-9f2db7831d88",
   "metadata": {},
   "outputs": [
    {
     "name": "stdin",
     "output_type": "stream",
     "text": [
      "enter first range:  1\n",
      "enter last range:  100\n"
     ]
    },
    {
     "name": "stdout",
     "output_type": "stream",
     "text": [
      "[1, 2, 3, 5, 7, 11, 13, 17, 19, 23, 29, 31, 37, 41, 43, 47, 53, 59, 61, 67, 71, 73, 79, 83, 89, 97]\n",
      "1061\n",
      "None\n"
     ]
    }
   ],
   "source": [
    "def list_maker(first_range,last_range):\n",
    "    prime_number_list=[]\n",
    "    for j in range(first_range,last_range+1):\n",
    "        for i in range(2,int(j**0.5)+1):\n",
    "            if j%i==0:\n",
    "                break\n",
    "        else:\n",
    "            prime_number_list.append(j)\n",
    "\n",
    "    print(prime_number_list)\n",
    "    print(sum(prime_number_list))\n",
    "\n",
    "try:\n",
    "    first_range=int(input(\"enter first range: \"))\n",
    "    last_range=int(input(\"enter last range: \"))\n",
    "\n",
    "    print(list_maker(1,100))\n",
    "except Exception as e:\n",
    "    print(\"invalid value entered\")\n",
    "        \n",
    "    \n",
    "    \n",
    "\n",
    "\n"
   ]
  },
  {
   "cell_type": "code",
   "execution_count": null,
   "id": "f1a07b6a-67a6-43e3-a045-ea09c3ab1cf6",
   "metadata": {},
   "outputs": [],
   "source": []
  }
 ],
 "metadata": {
  "kernelspec": {
   "display_name": "Python 3 (ipykernel)",
   "language": "python",
   "name": "python3"
  },
  "language_info": {
   "codemirror_mode": {
    "name": "ipython",
    "version": 3
   },
   "file_extension": ".py",
   "mimetype": "text/x-python",
   "name": "python",
   "nbconvert_exporter": "python",
   "pygments_lexer": "ipython3",
   "version": "3.12.7"
  }
 },
 "nbformat": 4,
 "nbformat_minor": 5
}
