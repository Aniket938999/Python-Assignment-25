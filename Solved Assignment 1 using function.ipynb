{
 "cells": [
  {
   "cell_type": "markdown",
   "id": "560bff06-f8a0-486a-ac5b-e81a07adc192",
   "metadata": {},
   "source": [
    "1. Write a Python program to print \"Hello Python\"?"
   ]
  },
  {
   "cell_type": "code",
   "execution_count": 4,
   "id": "7f2ebe13-569a-4a64-8c80-449533a03c2b",
   "metadata": {},
   "outputs": [
    {
     "name": "stdout",
     "output_type": "stream",
     "text": [
      "Hello Python\n"
     ]
    }
   ],
   "source": [
    "def msg_printer(msg):\n",
    "    return msg\n",
    "    \n",
    "if __name__==\"__main__\":\n",
    "    try:\n",
    "        msg=\"Hello Python\"\n",
    "        print(msg_printer(msg))\n",
    "    \n",
    "    except Exception as e:\n",
    "        print(\"invalid value entered\")"
   ]
  },
  {
   "cell_type": "markdown",
   "id": "4684cd15-439e-4463-aae5-b9028217bf00",
   "metadata": {},
   "source": [
    "2. Write a Python program to do arithmetical operations addition and division.?"
   ]
  },
  {
   "cell_type": "code",
   "execution_count": 21,
   "id": "7be93b35-dd82-4770-ac10-0935eef30da9",
   "metadata": {},
   "outputs": [
    {
     "name": "stdin",
     "output_type": "stream",
     "text": [
      "enter first number:  5\n",
      "enter second number:  2\n"
     ]
    },
    {
     "name": "stdout",
     "output_type": "stream",
     "text": [
      "addtion of 5.0 and 2.0 is 7.0\n",
      "division of 5.0 and 2.0 is 2.5\n"
     ]
    }
   ],
   "source": [
    "def addition(a,b):\n",
    "    return a+b\n",
    "\n",
    "def division(a,b):\n",
    "    return a/b\n",
    "\n",
    "if __name__==\"__main__\":\n",
    "    try:\n",
    "        a=float(input(\"enter first number: \"))\n",
    "        b=float(input(\"enter second number: \"))\n",
    "        print(f\"addtion of {a} and {b} is {addition(a,b)}\")\n",
    "        print(f\"division of {a} and {b} is {division(a,b)}\")\n",
    "    except Exception as e:\n",
    "        print(\"only numbers are allowed\")\n",
    "        "
   ]
  },
  {
   "cell_type": "markdown",
   "id": "6958c6f9-07e6-42a3-8671-fb75c918c7b1",
   "metadata": {},
   "source": [
    "3. Write a Python program to find the area of a triangle?"
   ]
  },
  {
   "cell_type": "code",
   "execution_count": 23,
   "id": "b01afd26-bea4-4af2-85cc-1c181c1e0ded",
   "metadata": {},
   "outputs": [
    {
     "name": "stdin",
     "output_type": "stream",
     "text": [
      "enter the base of triangle:  15\n",
      "enter the height of triangle:  3\n"
     ]
    },
    {
     "name": "stdout",
     "output_type": "stream",
     "text": [
      "Area of triangle 22.5\n"
     ]
    }
   ],
   "source": [
    "def area_of_triangle(base,height):\n",
    "    area=1/2*base*height\n",
    "    return area\n",
    "\n",
    "if __name__==\"__main__\":\n",
    "    try:\n",
    "        base=float(input(\"enter the base of triangle: \"))\n",
    "        height=float(input(\"enter the height of triangle: \"))\n",
    "        print(\"Area of triangle\",area_of_triangle(base,height))\n",
    "    except Exception as e:\n",
    "        print(\"only number are allowed\")\n",
    "    "
   ]
  },
  {
   "cell_type": "markdown",
   "id": "2862b015-76d1-4d29-8bd9-c4ff257f8a0e",
   "metadata": {},
   "source": [
    "4. Write a Python program to swap two variables?"
   ]
  },
  {
   "cell_type": "code",
   "execution_count": 35,
   "id": "ad78f758-e545-4fc6-95f0-ab5e5410db28",
   "metadata": {},
   "outputs": [
    {
     "name": "stdin",
     "output_type": "stream",
     "text": [
      "enter first number:  6\n",
      "enter second number:  858\n"
     ]
    },
    {
     "name": "stdout",
     "output_type": "stream",
     "text": [
      "before swap  6 858\n",
      "affer swap (858, 6)\n"
     ]
    }
   ],
   "source": [
    "def swap_var(a,b):\n",
    "    a,b=b,a\n",
    "    return a,b\n",
    "\n",
    "if __name__==\"__main__\":\n",
    "    try:\n",
    "        a=int(input(\"enter first number: \"))\n",
    "        b=int(input(\"enter second number: \"))\n",
    "        print(\"before swap \",a,b)\n",
    "        print(\"affer swap\",swap_var(a,b))\n",
    "    except Exception as e:\n",
    "        print(\"only number are allowed\")\n",
    "    "
   ]
  },
  {
   "cell_type": "markdown",
   "id": "d5e3bc7b-54fd-46e8-bf40-0f2ed991828c",
   "metadata": {},
   "source": [
    "5. Write a Python program to generate a random number?"
   ]
  },
  {
   "cell_type": "code",
   "execution_count": 38,
   "id": "d0c2d5a4-97ba-4da0-b8fc-61cfc4ab097a",
   "metadata": {},
   "outputs": [
    {
     "data": {
      "text/plain": [
       "2"
      ]
     },
     "execution_count": 38,
     "metadata": {},
     "output_type": "execute_result"
    }
   ],
   "source": [
    "import random\n",
    "random.randint(1,100)"
   ]
  },
  {
   "cell_type": "code",
   "execution_count": null,
   "id": "18b199b6-a570-481f-a000-b7a273e97091",
   "metadata": {},
   "outputs": [],
   "source": []
  }
 ],
 "metadata": {
  "kernelspec": {
   "display_name": "Python 3 (ipykernel)",
   "language": "python",
   "name": "python3"
  },
  "language_info": {
   "codemirror_mode": {
    "name": "ipython",
    "version": 3
   },
   "file_extension": ".py",
   "mimetype": "text/x-python",
   "name": "python",
   "nbconvert_exporter": "python",
   "pygments_lexer": "ipython3",
   "version": "3.12.7"
  }
 },
 "nbformat": 4,
 "nbformat_minor": 5
}
