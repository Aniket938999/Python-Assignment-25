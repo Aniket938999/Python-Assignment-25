{
 "cells": [
  {
   "cell_type": "markdown",
   "id": "0712909e-7bcd-46a6-896a-b26c9a5ff5c3",
   "metadata": {},
   "source": [
    "1. Write a Python Program to Display Fibonacci Sequence Using Recursion?"
   ]
  },
  {
   "cell_type": "code",
   "execution_count": 20,
   "id": "982023a5-9013-46fc-aa96-f70a6b50dc1d",
   "metadata": {},
   "outputs": [
    {
     "name": "stdin",
     "output_type": "stream",
     "text": [
      "enter a number:  9\n"
     ]
    },
    {
     "name": "stdout",
     "output_type": "stream",
     "text": [
      "Fibonacci sequence till 9 range\n",
      "0\n",
      "1\n",
      "1\n",
      "2\n",
      "3\n",
      "5\n",
      "8\n",
      "13\n",
      "21\n"
     ]
    }
   ],
   "source": [
    "def fibonacci_sequence(n):\n",
    "    if n<=1:\n",
    "        return n\n",
    "    else:\n",
    "        return fibonacci_sequence(n-1)+fibonacci_sequence(n-2)\n",
    "\n",
    "if __name__==\"__main__\":\n",
    "    try:\n",
    "        n=int(input(\"enter a number: \"))\n",
    "        if n<=0:\n",
    "            print(\"enter a positive number\")\n",
    "        else:\n",
    "            print(\"Fibonacci sequence till\",n,\"range\")\n",
    "            for i in range(n):\n",
    "                print(fibonacci_sequence(i))\n",
    "    except Exception as e:\n",
    "        print(\"only numeric number are allowed to enter\")\n",
    "        "
   ]
  },
  {
   "cell_type": "markdown",
   "id": "9da6bdfe-6b8a-4e8d-aa90-0b51f50d4c3f",
   "metadata": {},
   "source": [
    "2. Write a Python Program to Find Factorial of Number Using Recursion?"
   ]
  },
  {
   "cell_type": "code",
   "execution_count": null,
   "id": "a28a6f62-ae0c-4173-8870-753d489715d4",
   "metadata": {},
   "outputs": [],
   "source": [
    "def factorial(n):\n",
    "    if n==0 or n==1:\n",
    "        return 1\n",
    "    else:\n",
    "        return n*factorial(n-1)\n",
    "\n",
    "if __name__==\"__main__\":\n",
    "    try:\n",
    "        n=int(input(\"enter a number: \"))\n",
    "        if n<0:\n",
    "            print(\"factorial does not exist for negetive number\")\n",
    "        else:\n",
    "            print(\"factorial of\",n,\"is\",factorial(n))\n",
    "    except Exception as e:\n",
    "        print(\"only numeric number are allowed\")\n",
    "            "
   ]
  },
  {
   "cell_type": "markdown",
   "id": "6ddbbc40-ca25-4ddf-8914-c2ed5ca1b93e",
   "metadata": {},
   "source": [
    "3. Write a Python Program to calculate your Body Mass Index?"
   ]
  },
  {
   "cell_type": "code",
   "execution_count": 12,
   "id": "1bd32a75-caa7-436e-aa6f-4947870d791d",
   "metadata": {},
   "outputs": [
    {
     "name": "stdin",
     "output_type": "stream",
     "text": [
      "enter the weight:  8\n",
      "enter the height:  5\n"
     ]
    },
    {
     "name": "stdout",
     "output_type": "stream",
     "text": [
      "BMI = 0.32\n"
     ]
    }
   ],
   "source": [
    "def bmi(weight,height):\n",
    "    bmi=weight/height**2\n",
    "    return bmi\n",
    "\n",
    "if __name__==\"__main__\":\n",
    "    try:\n",
    "        weight=float(input(\"enter the weight: \"))\n",
    "        height=float(input(\"enter the height: \"))\n",
    "        print(\"BMI =\",bmi(weight,height))\n",
    "    except Exception as e:\n",
    "        print(\"Only numerric number are allowed\")"
   ]
  },
  {
   "cell_type": "markdown",
   "id": "ecd412c9-49f4-4a74-9eca-816dac7f0987",
   "metadata": {},
   "source": [
    "4. Write a Python Program to calculate the natural logarithm of any number?"
   ]
  },
  {
   "cell_type": "code",
   "execution_count": null,
   "id": "7d24e38c-781e-4eef-bff8-9a2a97ce66c1",
   "metadata": {},
   "outputs": [],
   "source": []
  },
  {
   "cell_type": "code",
   "execution_count": 13,
   "id": "fcef6d90-378f-4b4b-9b9c-7191e38ec10e",
   "metadata": {},
   "outputs": [
    {
     "data": {
      "text/plain": [
       "3.3219280948873626"
      ]
     },
     "execution_count": 13,
     "metadata": {},
     "output_type": "execute_result"
    }
   ],
   "source": [
    "import math\n",
    "math.log(10,2)"
   ]
  },
  {
   "cell_type": "markdown",
   "id": "af45649e-9b70-449d-8b6a-da437c3d812d",
   "metadata": {},
   "source": [
    "5. Write a Python Program for cube sum of first n natural numbers?"
   ]
  },
  {
   "cell_type": "code",
   "execution_count": 14,
   "id": "18c34575-7260-46b2-9529-bad94cca727d",
   "metadata": {},
   "outputs": [
    {
     "name": "stdin",
     "output_type": "stream",
     "text": [
      "enter the range number for cube sum:  50\n"
     ]
    },
    {
     "name": "stdout",
     "output_type": "stream",
     "text": [
      "1\n"
     ]
    }
   ],
   "source": [
    "def cube_sum(n):\n",
    "    cube_sum=0\n",
    "    for i in range(1,n+1):\n",
    "        cube_sum+=i**3\n",
    "        return cube_sum\n",
    "\n",
    "if __name__==\"__main__\":\n",
    "    try:\n",
    "        n=int(input(\"enter the range number for cube sum: \"))\n",
    "        print(cube_sum(n))\n",
    "    except Exception as e:\n",
    "        print(\"only numeric number are allowed\")"
   ]
  },
  {
   "cell_type": "code",
   "execution_count": null,
   "id": "ebf7da19-cd15-47ed-a37c-dadde1abcc94",
   "metadata": {},
   "outputs": [],
   "source": []
  }
 ],
 "metadata": {
  "kernelspec": {
   "display_name": "Python 3 (ipykernel)",
   "language": "python",
   "name": "python3"
  },
  "language_info": {
   "codemirror_mode": {
    "name": "ipython",
    "version": 3
   },
   "file_extension": ".py",
   "mimetype": "text/x-python",
   "name": "python",
   "nbconvert_exporter": "python",
   "pygments_lexer": "ipython3",
   "version": "3.12.7"
  }
 },
 "nbformat": 4,
 "nbformat_minor": 5
}
